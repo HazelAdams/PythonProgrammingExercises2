{
 "cells": [
  {
   "cell_type": "markdown",
   "metadata": {},
   "source": [
    "## Insult Creator"
   ]
  },
  {
   "cell_type": "code",
   "execution_count": 10,
   "metadata": {},
   "outputs": [
    {
     "name": "stdout",
     "output_type": "stream",
     "text": [
      "0you are a moany ugly piece of dirt\n",
      "1you are a obese ignorant insect\n",
      "2you are a stubborn self absorbed insect\n",
      "3you are a moany ugly pieace of lard\n",
      "4you are a obese self absorbed animal\n",
      "5you are a stubborn gross insect\n",
      "6you are a moany ignorant piece of dirt\n",
      "7you are a obese ugly piece of dirt\n",
      "8you are a selfish self absorbed insect\n",
      "9you are a obese musky piece of dirt\n"
     ]
    }
   ],
   "source": [
    "import random #the python random module\n",
    "\n",
    "#data - list of strings\n",
    "adj1= [\"moany\",\"stubborn\",\"selfish\",\"sticky\",\"obese\"]\n",
    "adj2= [\"ugly\",\"musky\",\"gross\",\"ignorant\",\"self absorbed\"]\n",
    "noun= [\"insect\",\"piece of dirt\",\"essex girl\",\"animal\",\"pieace of lard\"]\n",
    "\n",
    "#random insult generator\n",
    "#get a random adjective\n",
    "for i in range(10):\n",
    "    insultWord1 = random.choice(adj1)#get a random adj in a different way - less efficient\n",
    "    num = random.randint(0,len(adj2)-1) # cant include the LENGTH - no box of that value\n",
    "    insultWord2 = adj2[num] # the box number NUM in list\n",
    "    insultWord3 = random.choice(noun)#get the random noun\n",
    "    \n",
    "    print(str(i)+\"you are a \"+insultWord1 + \" \"+insultWord2 +\" \"+ insultWord3)"
   ]
  }
 ],
 "metadata": {
  "kernelspec": {
   "display_name": "Python 3",
   "language": "python",
   "name": "python3"
  },
  "language_info": {
   "codemirror_mode": {
    "name": "ipython",
    "version": 3
   },
   "file_extension": ".py",
   "mimetype": "text/x-python",
   "name": "python",
   "nbconvert_exporter": "python",
   "pygments_lexer": "ipython3",
   "version": "3.5.2"
  }
 },
 "nbformat": 4,
 "nbformat_minor": 2
}
