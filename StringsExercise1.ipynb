{
 "cells": [
  {
   "cell_type": "markdown",
   "metadata": {},
   "source": [
    "## Strings Exercise 1"
   ]
  },
  {
   "cell_type": "code",
   "execution_count": 12,
   "metadata": {},
   "outputs": [],
   "source": [
    "#create a variable with the data type string\n",
    "myString = \"hello world\" #double quotes means text data\n",
    "userName = \"Dave\"\n",
    "words = \"bunch of words\"\n",
    "question = \"what is the capital of jeu\"\n",
    "age = 10\n"
   ]
  },
  {
   "cell_type": "code",
   "execution_count": 15,
   "metadata": {},
   "outputs": [
    {
     "name": "stdout",
     "output_type": "stream",
     "text": [
      "bunch of words\n",
      "bunch of wordswhat is the capital of jeu\n",
      "hello user Dave\n",
      "hello user  Dave\n",
      "You are 10\n"
     ]
    }
   ],
   "source": [
    "#functions that i can use to output input and do other things with strings\n",
    "#output\n",
    "print(words)\n",
    "print(words + question) # when you + strings you CONCATENATE the strings\n",
    "#printing hardcoded and variables\n",
    "print(\"hello user \"+ userName)\n",
    "print(\"hello user \", userName)\n",
    "print(\"You are \"+ age)"
   ]
  },
  {
   "cell_type": "code",
   "execution_count": 14,
   "metadata": {},
   "outputs": [
    {
     "name": "stdout",
     "output_type": "stream",
     "text": [
      "hello user of age 10\n"
     ]
    }
   ],
   "source": [
    "#convert an integer into a string using a FUNCTION\n",
    "print(\"hello user of age \"+ str(age)) #turns the integer into a string so it can print"
   ]
  },
  {
   "cell_type": "code",
   "execution_count": 17,
   "metadata": {},
   "outputs": [
    {
     "name": "stdout",
     "output_type": "stream",
     "text": [
      "what is your user name?dave\n",
      "dave\n",
      "what is your age?90\n",
      "90\n"
     ]
    }
   ],
   "source": [
    "userName = input(\"what is your user name?\")\n",
    "print(userName)\n",
    "age = int (input (\"what is your age?\")) #if we want to use age as a numebrt\n",
    "print(age)"
   ]
  }
 ],
 "metadata": {
  "kernelspec": {
   "display_name": "Python 3",
   "language": "python",
   "name": "python3"
  },
  "language_info": {
   "codemirror_mode": {
    "name": "ipython",
    "version": 3
   },
   "file_extension": ".py",
   "mimetype": "text/x-python",
   "name": "python",
   "nbconvert_exporter": "python",
   "pygments_lexer": "ipython3",
   "version": "3.5.2"
  }
 },
 "nbformat": 4,
 "nbformat_minor": 2
}
