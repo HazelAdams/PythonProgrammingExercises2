{
 "cells": [
  {
   "cell_type": "markdown",
   "metadata": {},
   "source": [
    "## List Exercises"
   ]
  },
  {
   "cell_type": "code",
   "execution_count": 3,
   "metadata": {},
   "outputs": [],
   "source": [
    "#declare variables that are lists\n",
    "myNumberList = [1, 2, 3, 4, 5]\n",
    "myNameList = [\"dave\", \"dave1\", \"dave2\", \"dave3\", \"dave4\"]\n"
   ]
  },
  {
   "cell_type": "code",
   "execution_count": 4,
   "metadata": {},
   "outputs": [
    {
     "name": "stdout",
     "output_type": "stream",
     "text": [
      "[1, 2, 3, 4, 5]\n",
      "['dave', 'dave1', 'dave2', 'dave3', 'dave4']\n"
     ]
    }
   ],
   "source": [
    "#output the whole list with its structure\n",
    "print(myNumberList)\n",
    "print(myNameList)"
   ]
  },
  {
   "cell_type": "code",
   "execution_count": 5,
   "metadata": {},
   "outputs": [
    {
     "name": "stdout",
     "output_type": "stream",
     "text": [
      "dave\n",
      "dave1\n",
      "dave2\n",
      "dave3\n",
      "dave4\n"
     ]
    }
   ],
   "source": [
    "#output the list, one element at a time\n",
    "#use a for loop and iterate through the list\n",
    "for item in (myNameList):\n",
    "    print(item)"
   ]
  },
  {
   "cell_type": "code",
   "execution_count": 7,
   "metadata": {},
   "outputs": [
    {
     "name": "stdout",
     "output_type": "stream",
     "text": [
      "dave dave1 dave2 dave3 dave4 "
     ]
    }
   ],
   "source": [
    "for item in (myNameList):\n",
    "    print(item,end=\" \") #prints each item on the same line with spaces"
   ]
  },
  {
   "cell_type": "code",
   "execution_count": 10,
   "metadata": {},
   "outputs": [
    {
     "name": "stdout",
     "output_type": "stream",
     "text": [
      "5\n",
      "5\n"
     ]
    }
   ],
   "source": [
    "#how can we find out how many elements a list has?\n",
    "x = len(myNameList)\n",
    "print(x)\n",
    "y = len(myNumberList)\n",
    "print(y)"
   ]
  },
  {
   "cell_type": "code",
   "execution_count": 12,
   "metadata": {},
   "outputs": [
    {
     "name": "stdout",
     "output_type": "stream",
     "text": [
      "dave\n",
      "dave2\n",
      "dave4\n"
     ]
    }
   ],
   "source": [
    "#how to print every second element of the list\n",
    "for i in range(len(myNameList)):\n",
    "    #only print if the list index is divisible by 2 - even boxes\n",
    "    if i%2 == 0:\n",
    "        print(myNameList[i])"
   ]
  },
  {
   "cell_type": "code",
   "execution_count": 13,
   "metadata": {},
   "outputs": [
    {
     "name": "stdout",
     "output_type": "stream",
     "text": [
      "dave\n",
      "dave2\n",
      "dave4\n"
     ]
    }
   ],
   "source": [
    "#how to print every second element of the list\n",
    "for i in range(0,len(myNameList),2):\n",
    "        print(myNameList[i])"
   ]
  }
 ],
 "metadata": {
  "kernelspec": {
   "display_name": "Python 3",
   "language": "python",
   "name": "python3"
  },
  "language_info": {
   "codemirror_mode": {
    "name": "ipython",
    "version": 3
   },
   "file_extension": ".py",
   "mimetype": "text/x-python",
   "name": "python",
   "nbconvert_exporter": "python",
   "pygments_lexer": "ipython3",
   "version": "3.5.2"
  }
 },
 "nbformat": 4,
 "nbformat_minor": 2
}
